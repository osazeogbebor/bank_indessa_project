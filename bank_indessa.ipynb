{
 "cells": [
  {
   "cell_type": "code",
   "execution_count": 1,
   "id": "b3b4673f",
   "metadata": {
    "_cell_guid": "b1076dfc-b9ad-4769-8c92-a6c4dae69d19",
    "_kg_hide-input": true,
    "_uuid": "8f2839f25d086af736a60e9eeb907d3b93b6e0e5",
    "execution": {
     "iopub.execute_input": "2023-08-31T05:07:46.343298Z",
     "iopub.status.busy": "2023-08-31T05:07:46.342882Z",
     "iopub.status.idle": "2023-08-31T05:07:46.377353Z",
     "shell.execute_reply": "2023-08-31T05:07:46.376208Z"
    },
    "papermill": {
     "duration": 0.054496,
     "end_time": "2023-08-31T05:07:46.379945",
     "exception": false,
     "start_time": "2023-08-31T05:07:46.325449",
     "status": "completed"
    },
    "tags": []
   },
   "outputs": [],
   "source": [
    "# This Python 3 environment comes with many helpful analytics libraries installed\n",
    "# It is defined by the kaggle/python Docker image: https://github.com/kaggle/docker-python\n",
    "# For example, here's several helpful packages to load\n",
    "\n",
    "import numpy as np # linear algebra\n",
    "import pandas as pd # data processing, CSV file I/O (e.g. pd.read_csv)\n",
    "\n",
    "# Input data files are available in the read-only \"../input/\" directory\n",
    "# For example, running this (by clicking run or pressing Shift+Enter) will list all files under the input directory\n",
    "\n",
    "import os\n",
    "for dirname, _, filenames in os.walk('/kaggle/input'):\n",
    "    for filename in filenames:\n",
    "        print(os.path.join(dirname, filename))\n",
    "\n",
    "# You can write up to 20GB to the current directory (/kaggle/working/) that gets preserved as output when you create a version using \"Save & Run All\" \n",
    "# You can also write temporary files to /kaggle/temp/, but they won't be saved outside of the current session"
   ]
  },
  {
   "cell_type": "markdown",
   "id": "732cfbe5",
   "metadata": {
    "papermill": {
     "duration": 0.014419,
     "end_time": "2023-08-31T05:07:46.409325",
     "exception": false,
     "start_time": "2023-08-31T05:07:46.394906",
     "status": "completed"
    },
    "tags": []
   },
   "source": [
    "**INTRODUCTION**\n",
    "\n",
    "Bank Indessa is currently grappling with a pressing challenge: an alarming rise in Non-Performing Assets (NPAs). This surge, largely attributed to loan defaulters, has eroded investor trust and led to a significant 20% decline in stock value within a mere quarter. For a bank intrinsically tied to its community's economic well-being, such a downturn is not only concerning but demands immediate attention.\n",
    "\n",
    "A deeper dive reveals that the solution might be within the bank's own archives. The vast reservoirs of data, accumulated over years, hold potential insights into patterns of loan defaults. In today's digital age, leveraging machine learning could transform this raw, unstructured data into actionable insights, enabling the bank to predict potential defaulters.\n",
    "\n",
    "Adding complexity to this task is the bank's unique operational model. Unlike conventional banking systems, Bank Indessa collaborates with a pool of investors in the loan sanctioning process. Each loan application undergoes due diligence from both the bank and its investors. This collaborative approach, though enriching, requires a nuanced risk assessment strategy.\n",
    "\n",
    "Through this project, by predicting loan default probabilities, we aim to equip Bank Indessa with the necessary foresight to devise strategies that ensure its future stability and growth."
   ]
  },
  {
   "cell_type": "markdown",
   "id": "1c546de6",
   "metadata": {
    "papermill": {
     "duration": 0.014303,
     "end_time": "2023-08-31T05:07:46.440068",
     "exception": false,
     "start_time": "2023-08-31T05:07:46.425765",
     "status": "completed"
    },
    "tags": []
   },
   "source": [
    "**TASK DESCRIPTION** \n",
    "\n",
    "Bank Indessa, despite its commendable legacy, is currently grappling with an alarming rise in Non-Performing Assets (NPAs). This uptick, predominantly attributed to loan defaulters, has cast shadows over investor confidence and has been a catalyst for a sharp decline in stock value. This project aims to employ machine learning to predict potential defaulters, thereby assisting Bank Indessa in preempting loan defaults and formulating strategic interventions.\n",
    "\n",
    "Here's our structured plan of action:\n",
    "\n",
    "**Data Acquisition**: Our first step involves consolidating the loan data from Bank Indessa's archives. This dataset, encompassing fields like 'loan_amnt', 'annual_inc', 'dti', 'loan_status', and more, will provide a comprehensive overview of the bank's loan distribution and its associated dynamics.\n",
    "\n",
    "**Data Cleaning and Preprocessing**: Given the historical accumulation of data, inconsistencies and missing values are expected. Our focus will be on cleaning the data, handling missing data, and ensuring its readiness for subsequent stages.\n",
    "\n",
    "**Feature Engineering**: Leveraging the columns provided, we will craft new features or modify existing ones to better capture the intricacies of loan default patterns. This transformation ensures that our algorithms can effectively discern potential defaulters.\n",
    "\n",
    "**Model Development**: \n",
    "  We will utilize the XGBClassifier for our analytical exploration. The rationale behind this decision is as follows:: \n",
    "  \n",
    "     **NonLinearPatterns**: XGBoost excels at capturing intricate non-linear relationships in the data, making it suitable for predicting complex behaviors such as loan defaults.\n",
    "  \n",
    "    **RobustToOutliers**: Given its tree-based nature, XGBoost is resilient to outliers, which can be common in financial data.\n",
    " \n",
    "    **FeatureInteractions**: XGBoost can automatically identify and leverage interactions between features, which might be vital when considering various factors determining loan defaults.\n",
    " \n",
    "    **HighPerformance**: Historically, XGBoost has a track record of delivering top-notch performance on a wide range of classification tasks, making it a reliable choice.\n",
    " \n",
    "    **MissingDataHandling**: XGBoost has built-in mechanisms for handling missing data, a common issue in real-world datasets, especially in finance.\n",
    "  \n",
    "    \n",
    "**Model Assessment**: Validating the models is crucial. We'll employ an array of metrics, including accuracy, precision, recall, F1 score, and the area under the ROC curve, to holistically gauge the models' proficiency in predicting loan defaults.\n",
    "\n",
    "**Feature Significance Analysis**: Post-modeling, we'll delve deep to identify the key features that are pivotal in predicting loan defaults. This introspection offers actionable insights for the bank's risk assessment teams.\n",
    "\n",
    "**Visualization and Reporting**: Synthesizing our findings into accessible insights is vital. Employing a suite of visualization tools, we'll craft comprehensive reports detailing our findings, predictions, and recommendations.\n",
    "\n",
    "In culmination, this project seeks to arm Bank Indessa with a predictive tool capable of flagging potential loan defaulters. By proactively identifying risks, the bank can recalibrate its loan sanctioning strategies, restore investor trust, and pave the path toward financial stability."
   ]
  },
  {
   "cell_type": "markdown",
   "id": "0a68af93",
   "metadata": {
    "papermill": {
     "duration": 0.014345,
     "end_time": "2023-08-31T05:07:46.469115",
     "exception": false,
     "start_time": "2023-08-31T05:07:46.454770",
     "status": "completed"
    },
    "tags": []
   },
   "source": [
    "**DATA SOURCE**\n",
    "\n",
    "Our analytical endeavors are anchored upon a dataset previously utilized in a past competition. In this challenge, participants were tasked with crafting algorithms with a prime focus on maximizing the Area Under the Receiver Operating Characteristic Curve (AUC-ROC) score. Recognizing the dataset's historical significance and its comprehensive nature, we have judiciously partitioned it into training and testing subsets to ensure a rigorous evaluation of our model's performance.\n",
    "\n",
    "[View the dataset here](https://www.hackerearth.com/problem/machine-learning/bank-fears-loanliness/)"
   ]
  },
  {
   "cell_type": "markdown",
   "id": "26c9784a",
   "metadata": {
    "papermill": {
     "duration": 0.014446,
     "end_time": "2023-08-31T05:07:46.498072",
     "exception": false,
     "start_time": "2023-08-31T05:07:46.483626",
     "status": "completed"
    },
    "tags": []
   },
   "source": [
    "**Tools and frameworks:**\n",
    "\n",
    "To initiate the exploratory analysis, import required libraries"
   ]
  },
  {
   "cell_type": "code",
   "execution_count": 11,
   "id": "b2c8a26e",
   "metadata": {
    "execution": {
     "iopub.execute_input": "2023-08-31T05:07:46.529865Z",
     "iopub.status.busy": "2023-08-31T05:07:46.528677Z",
     "iopub.status.idle": "2023-08-31T05:08:02.972009Z",
     "shell.execute_reply": "2023-08-31T05:08:02.970742Z"
    },
    "papermill": {
     "duration": 16.462339,
     "end_time": "2023-08-31T05:08:02.975058",
     "exception": false,
     "start_time": "2023-08-31T05:07:46.512719",
     "status": "completed"
    },
    "tags": []
   },
   "outputs": [
    {
     "name": "stdout",
     "output_type": "stream",
     "text": [
      "Requirement already satisfied: xgboost in /Users/osazeogbebor/opt/anaconda3/lib/python3.9/site-packages (1.7.6)\r\n",
      "Requirement already satisfied: scipy in /Users/osazeogbebor/opt/anaconda3/lib/python3.9/site-packages (from xgboost) (1.9.1)\r\n",
      "Requirement already satisfied: numpy in /Users/osazeogbebor/opt/anaconda3/lib/python3.9/site-packages (from xgboost) (1.21.5)\r\n"
     ]
    }
   ],
   "source": [
    "import numpy as np \n",
    "import pandas as pd\n",
    "import seaborn as sns\n",
    "import matplotlib.pyplot as plt\n",
    "from sklearn.model_selection import GridSearchCV,train_test_split\n",
    "from sklearn.metrics import classification_report,confusion_matrix,ConfusionMatrixDisplay\n",
    "from sklearn.metrics import roc_curve,auc,roc_auc_score\n",
    "!pip install xgboost\n",
    "import xgboost as xgb"
   ]
  },
  {
   "cell_type": "code",
   "execution_count": 12,
   "id": "aae4ce0f",
   "metadata": {
    "execution": {
     "iopub.execute_input": "2023-08-31T05:08:03.007606Z",
     "iopub.status.busy": "2023-08-31T05:08:03.007144Z",
     "iopub.status.idle": "2023-08-31T05:08:09.169638Z",
     "shell.execute_reply": "2023-08-31T05:08:09.168432Z"
    },
    "papermill": {
     "duration": 6.182165,
     "end_time": "2023-08-31T05:08:09.172478",
     "exception": false,
     "start_time": "2023-08-31T05:08:02.990313",
     "status": "completed"
    },
    "tags": []
   },
   "outputs": [],
   "source": [
    "df = pd.read_csv('/Users/osazeogbebor/Downloads/TRAIN INDESSA.csv') #read dataset"
   ]
  },
  {
   "cell_type": "code",
   "execution_count": 13,
   "id": "9cf6158b",
   "metadata": {
    "execution": {
     "iopub.execute_input": "2023-08-31T05:08:09.204775Z",
     "iopub.status.busy": "2023-08-31T05:08:09.204311Z",
     "iopub.status.idle": "2023-08-31T05:08:09.249446Z",
     "shell.execute_reply": "2023-08-31T05:08:09.248324Z"
    },
    "papermill": {
     "duration": 0.064387,
     "end_time": "2023-08-31T05:08:09.252051",
     "exception": false,
     "start_time": "2023-08-31T05:08:09.187664",
     "status": "completed"
    },
    "tags": []
   },
   "outputs": [
    {
     "data": {
      "text/html": [
       "<div>\n",
       "<style scoped>\n",
       "    .dataframe tbody tr th:only-of-type {\n",
       "        vertical-align: middle;\n",
       "    }\n",
       "\n",
       "    .dataframe tbody tr th {\n",
       "        vertical-align: top;\n",
       "    }\n",
       "\n",
       "    .dataframe thead th {\n",
       "        text-align: right;\n",
       "    }\n",
       "</style>\n",
       "<table border=\"1\" class=\"dataframe\">\n",
       "  <thead>\n",
       "    <tr style=\"text-align: right;\">\n",
       "      <th></th>\n",
       "      <th>member_id</th>\n",
       "      <th>loan_amnt</th>\n",
       "      <th>funded_amnt</th>\n",
       "      <th>funded_amnt_inv</th>\n",
       "      <th>term</th>\n",
       "      <th>batch_enrolled</th>\n",
       "      <th>int_rate</th>\n",
       "      <th>grade</th>\n",
       "      <th>sub_grade</th>\n",
       "      <th>emp_title</th>\n",
       "      <th>...</th>\n",
       "      <th>collections_12_mths_ex_med</th>\n",
       "      <th>mths_since_last_major_derog</th>\n",
       "      <th>application_type</th>\n",
       "      <th>verification_status_joint</th>\n",
       "      <th>last_week_pay</th>\n",
       "      <th>acc_now_delinq</th>\n",
       "      <th>tot_coll_amt</th>\n",
       "      <th>tot_cur_bal</th>\n",
       "      <th>total_rev_hi_lim</th>\n",
       "      <th>loan_status</th>\n",
       "    </tr>\n",
       "  </thead>\n",
       "  <tbody>\n",
       "    <tr>\n",
       "      <th>0</th>\n",
       "      <td>58189336</td>\n",
       "      <td>14350</td>\n",
       "      <td>14350</td>\n",
       "      <td>14350.0</td>\n",
       "      <td>36 months</td>\n",
       "      <td></td>\n",
       "      <td>19.19</td>\n",
       "      <td>E</td>\n",
       "      <td>E3</td>\n",
       "      <td>clerk</td>\n",
       "      <td>...</td>\n",
       "      <td>0.0</td>\n",
       "      <td>74.0</td>\n",
       "      <td>INDIVIDUAL</td>\n",
       "      <td>NaN</td>\n",
       "      <td>26th week</td>\n",
       "      <td>0.0</td>\n",
       "      <td>0.0</td>\n",
       "      <td>28699.0</td>\n",
       "      <td>30800.0</td>\n",
       "      <td>0</td>\n",
       "    </tr>\n",
       "    <tr>\n",
       "      <th>1</th>\n",
       "      <td>70011223</td>\n",
       "      <td>4800</td>\n",
       "      <td>4800</td>\n",
       "      <td>4800.0</td>\n",
       "      <td>36 months</td>\n",
       "      <td>BAT1586599</td>\n",
       "      <td>10.99</td>\n",
       "      <td>B</td>\n",
       "      <td>B4</td>\n",
       "      <td>Human Resources Specialist</td>\n",
       "      <td>...</td>\n",
       "      <td>0.0</td>\n",
       "      <td>NaN</td>\n",
       "      <td>INDIVIDUAL</td>\n",
       "      <td>NaN</td>\n",
       "      <td>9th week</td>\n",
       "      <td>0.0</td>\n",
       "      <td>0.0</td>\n",
       "      <td>9974.0</td>\n",
       "      <td>32900.0</td>\n",
       "      <td>0</td>\n",
       "    </tr>\n",
       "    <tr>\n",
       "      <th>2</th>\n",
       "      <td>70255675</td>\n",
       "      <td>10000</td>\n",
       "      <td>10000</td>\n",
       "      <td>10000.0</td>\n",
       "      <td>36 months</td>\n",
       "      <td>BAT1586599</td>\n",
       "      <td>7.26</td>\n",
       "      <td>A</td>\n",
       "      <td>A4</td>\n",
       "      <td>Driver</td>\n",
       "      <td>...</td>\n",
       "      <td>0.0</td>\n",
       "      <td>NaN</td>\n",
       "      <td>INDIVIDUAL</td>\n",
       "      <td>NaN</td>\n",
       "      <td>9th week</td>\n",
       "      <td>0.0</td>\n",
       "      <td>65.0</td>\n",
       "      <td>38295.0</td>\n",
       "      <td>34900.0</td>\n",
       "      <td>0</td>\n",
       "    </tr>\n",
       "    <tr>\n",
       "      <th>3</th>\n",
       "      <td>1893936</td>\n",
       "      <td>15000</td>\n",
       "      <td>15000</td>\n",
       "      <td>15000.0</td>\n",
       "      <td>36 months</td>\n",
       "      <td>BAT4808022</td>\n",
       "      <td>19.72</td>\n",
       "      <td>D</td>\n",
       "      <td>D5</td>\n",
       "      <td>Us office of Personnel Management</td>\n",
       "      <td>...</td>\n",
       "      <td>0.0</td>\n",
       "      <td>NaN</td>\n",
       "      <td>INDIVIDUAL</td>\n",
       "      <td>NaN</td>\n",
       "      <td>135th week</td>\n",
       "      <td>0.0</td>\n",
       "      <td>0.0</td>\n",
       "      <td>55564.0</td>\n",
       "      <td>24700.0</td>\n",
       "      <td>0</td>\n",
       "    </tr>\n",
       "    <tr>\n",
       "      <th>4</th>\n",
       "      <td>7652106</td>\n",
       "      <td>16000</td>\n",
       "      <td>16000</td>\n",
       "      <td>16000.0</td>\n",
       "      <td>36 months</td>\n",
       "      <td>BAT2833642</td>\n",
       "      <td>10.64</td>\n",
       "      <td>B</td>\n",
       "      <td>B2</td>\n",
       "      <td>LAUSD-HOLLYWOOD HIGH SCHOOL</td>\n",
       "      <td>...</td>\n",
       "      <td>0.0</td>\n",
       "      <td>NaN</td>\n",
       "      <td>INDIVIDUAL</td>\n",
       "      <td>NaN</td>\n",
       "      <td>96th week</td>\n",
       "      <td>0.0</td>\n",
       "      <td>0.0</td>\n",
       "      <td>47159.0</td>\n",
       "      <td>47033.0</td>\n",
       "      <td>0</td>\n",
       "    </tr>\n",
       "  </tbody>\n",
       "</table>\n",
       "<p>5 rows × 45 columns</p>\n",
       "</div>"
      ],
      "text/plain": [
       "   member_id  loan_amnt  funded_amnt  funded_amnt_inv       term  \\\n",
       "0   58189336      14350        14350          14350.0  36 months   \n",
       "1   70011223       4800         4800           4800.0  36 months   \n",
       "2   70255675      10000        10000          10000.0  36 months   \n",
       "3    1893936      15000        15000          15000.0  36 months   \n",
       "4    7652106      16000        16000          16000.0  36 months   \n",
       "\n",
       "  batch_enrolled  int_rate grade sub_grade                          emp_title  \\\n",
       "0                    19.19     E        E3                              clerk   \n",
       "1     BAT1586599     10.99     B        B4         Human Resources Specialist   \n",
       "2     BAT1586599      7.26     A        A4                             Driver   \n",
       "3     BAT4808022     19.72     D        D5  Us office of Personnel Management   \n",
       "4     BAT2833642     10.64     B        B2        LAUSD-HOLLYWOOD HIGH SCHOOL   \n",
       "\n",
       "   ... collections_12_mths_ex_med mths_since_last_major_derog  \\\n",
       "0  ...                        0.0                        74.0   \n",
       "1  ...                        0.0                         NaN   \n",
       "2  ...                        0.0                         NaN   \n",
       "3  ...                        0.0                         NaN   \n",
       "4  ...                        0.0                         NaN   \n",
       "\n",
       "   application_type verification_status_joint last_week_pay acc_now_delinq  \\\n",
       "0        INDIVIDUAL                       NaN     26th week            0.0   \n",
       "1        INDIVIDUAL                       NaN      9th week            0.0   \n",
       "2        INDIVIDUAL                       NaN      9th week            0.0   \n",
       "3        INDIVIDUAL                       NaN    135th week            0.0   \n",
       "4        INDIVIDUAL                       NaN     96th week            0.0   \n",
       "\n",
       "  tot_coll_amt tot_cur_bal total_rev_hi_lim loan_status  \n",
       "0          0.0     28699.0          30800.0           0  \n",
       "1          0.0      9974.0          32900.0           0  \n",
       "2         65.0     38295.0          34900.0           0  \n",
       "3          0.0     55564.0          24700.0           0  \n",
       "4          0.0     47159.0          47033.0           0  \n",
       "\n",
       "[5 rows x 45 columns]"
      ]
     },
     "execution_count": 13,
     "metadata": {},
     "output_type": "execute_result"
    }
   ],
   "source": [
    "#data inspection using .head()\n",
    "df.head()"
   ]
  },
  {
   "cell_type": "code",
   "execution_count": null,
   "id": "17539b06",
   "metadata": {
    "papermill": {
     "duration": 0.015137,
     "end_time": "2023-08-31T05:08:09.282844",
     "exception": false,
     "start_time": "2023-08-31T05:08:09.267707",
     "status": "completed"
    },
    "tags": []
   },
   "outputs": [],
   "source": []
  },
  {
   "cell_type": "code",
   "execution_count": 14,
   "id": "e201cbbf",
   "metadata": {
    "execution": {
     "iopub.execute_input": "2023-08-31T05:08:09.315636Z",
     "iopub.status.busy": "2023-08-31T05:08:09.315199Z",
     "iopub.status.idle": "2023-08-31T05:08:12.291699Z",
     "shell.execute_reply": "2023-08-31T05:08:12.290654Z"
    },
    "papermill": {
     "duration": 2.995952,
     "end_time": "2023-08-31T05:08:12.294262",
     "exception": false,
     "start_time": "2023-08-31T05:08:09.298310",
     "status": "completed"
    },
    "tags": []
   },
   "outputs": [
    {
     "data": {
      "text/plain": [
       "member_id                           0\n",
       "loan_amnt                           0\n",
       "funded_amnt                         0\n",
       "funded_amnt_inv                     0\n",
       "term                                0\n",
       "batch_enrolled                  85149\n",
       "int_rate                            0\n",
       "grade                               0\n",
       "sub_grade                           0\n",
       "emp_title                       30833\n",
       "emp_length                      26891\n",
       "home_ownership                      0\n",
       "annual_inc                          3\n",
       "verification_status                 0\n",
       "pymnt_plan                          0\n",
       "desc                           456829\n",
       "purpose                             0\n",
       "title                              90\n",
       "zip_code                            0\n",
       "addr_state                          0\n",
       "dti                                 0\n",
       "delinq_2yrs                        16\n",
       "inq_last_6mths                     16\n",
       "mths_since_last_delinq         272554\n",
       "mths_since_last_record         450305\n",
       "open_acc                           16\n",
       "pub_rec                            16\n",
       "revol_bal                           0\n",
       "revol_util                        287\n",
       "total_acc                          16\n",
       "initial_list_status                 0\n",
       "total_rec_int                       0\n",
       "total_rec_late_fee                  0\n",
       "recoveries                          0\n",
       "collection_recovery_fee             0\n",
       "collections_12_mths_ex_med         95\n",
       "mths_since_last_major_derog    399448\n",
       "application_type                    0\n",
       "verification_status_joint      532123\n",
       "last_week_pay                       0\n",
       "acc_now_delinq                     16\n",
       "tot_coll_amt                    42004\n",
       "tot_cur_bal                     42004\n",
       "total_rev_hi_lim                42004\n",
       "loan_status                         0\n",
       "dtype: int64"
      ]
     },
     "execution_count": 14,
     "metadata": {},
     "output_type": "execute_result"
    }
   ],
   "source": [
    "df.isna().sum() # provides a count of missing values for each column in the DataFrame.\n",
    "# This shows quite a number of columns with missing values."
   ]
  },
  {
   "cell_type": "code",
   "execution_count": 15,
   "id": "95069a92",
   "metadata": {
    "execution": {
     "iopub.execute_input": "2023-08-31T05:08:12.327528Z",
     "iopub.status.busy": "2023-08-31T05:08:12.327078Z",
     "iopub.status.idle": "2023-08-31T05:08:15.353527Z",
     "shell.execute_reply": "2023-08-31T05:08:15.352115Z"
    },
    "papermill": {
     "duration": 3.04621,
     "end_time": "2023-08-31T05:08:15.356346",
     "exception": false,
     "start_time": "2023-08-31T05:08:12.310136",
     "status": "completed"
    },
    "tags": []
   },
   "outputs": [
    {
     "name": "stdout",
     "output_type": "stream",
     "text": [
      "<class 'pandas.core.frame.DataFrame'>\n",
      "RangeIndex: 532428 entries, 0 to 532427\n",
      "Data columns (total 45 columns):\n",
      " #   Column                       Non-Null Count   Dtype  \n",
      "---  ------                       --------------   -----  \n",
      " 0   member_id                    532428 non-null  int64  \n",
      " 1   loan_amnt                    532428 non-null  int64  \n",
      " 2   funded_amnt                  532428 non-null  int64  \n",
      " 3   funded_amnt_inv              532428 non-null  float64\n",
      " 4   term                         532428 non-null  object \n",
      " 5   batch_enrolled               447279 non-null  object \n",
      " 6   int_rate                     532428 non-null  float64\n",
      " 7   grade                        532428 non-null  object \n",
      " 8   sub_grade                    532428 non-null  object \n",
      " 9   emp_title                    501595 non-null  object \n",
      " 10  emp_length                   505537 non-null  object \n",
      " 11  home_ownership               532428 non-null  object \n",
      " 12  annual_inc                   532425 non-null  float64\n",
      " 13  verification_status          532428 non-null  object \n",
      " 14  pymnt_plan                   532428 non-null  object \n",
      " 15  desc                         75599 non-null   object \n",
      " 16  purpose                      532428 non-null  object \n",
      " 17  title                        532338 non-null  object \n",
      " 18  zip_code                     532428 non-null  object \n",
      " 19  addr_state                   532428 non-null  object \n",
      " 20  dti                          532428 non-null  float64\n",
      " 21  delinq_2yrs                  532412 non-null  float64\n",
      " 22  inq_last_6mths               532412 non-null  float64\n",
      " 23  mths_since_last_delinq       259874 non-null  float64\n",
      " 24  mths_since_last_record       82123 non-null   float64\n",
      " 25  open_acc                     532412 non-null  float64\n",
      " 26  pub_rec                      532412 non-null  float64\n",
      " 27  revol_bal                    532428 non-null  float64\n",
      " 28  revol_util                   532141 non-null  float64\n",
      " 29  total_acc                    532412 non-null  float64\n",
      " 30  initial_list_status          532428 non-null  object \n",
      " 31  total_rec_int                532428 non-null  float64\n",
      " 32  total_rec_late_fee           532428 non-null  float64\n",
      " 33  recoveries                   532428 non-null  float64\n",
      " 34  collection_recovery_fee      532428 non-null  float64\n",
      " 35  collections_12_mths_ex_med   532333 non-null  float64\n",
      " 36  mths_since_last_major_derog  132980 non-null  float64\n",
      " 37  application_type             532428 non-null  object \n",
      " 38  verification_status_joint    305 non-null     object \n",
      " 39  last_week_pay                532428 non-null  object \n",
      " 40  acc_now_delinq               532412 non-null  float64\n",
      " 41  tot_coll_amt                 490424 non-null  float64\n",
      " 42  tot_cur_bal                  490424 non-null  float64\n",
      " 43  total_rev_hi_lim             490424 non-null  float64\n",
      " 44  loan_status                  532428 non-null  int64  \n",
      "dtypes: float64(23), int64(4), object(18)\n",
      "memory usage: 182.8+ MB\n"
     ]
    }
   ],
   "source": [
    "df.info() # provides a concise summary of the DataFrame\n"
   ]
  },
  {
   "cell_type": "code",
   "execution_count": 16,
   "id": "845f9661",
   "metadata": {
    "execution": {
     "iopub.execute_input": "2023-08-31T05:08:15.390066Z",
     "iopub.status.busy": "2023-08-31T05:08:15.389693Z",
     "iopub.status.idle": "2023-08-31T05:08:18.372614Z",
     "shell.execute_reply": "2023-08-31T05:08:18.371433Z"
    },
    "papermill": {
     "duration": 3.002632,
     "end_time": "2023-08-31T05:08:18.375051",
     "exception": false,
     "start_time": "2023-08-31T05:08:15.372419",
     "status": "completed"
    },
    "tags": []
   },
   "outputs": [
    {
     "data": {
      "text/html": [
       "<div>\n",
       "<style scoped>\n",
       "    .dataframe tbody tr th:only-of-type {\n",
       "        vertical-align: middle;\n",
       "    }\n",
       "\n",
       "    .dataframe tbody tr th {\n",
       "        vertical-align: top;\n",
       "    }\n",
       "\n",
       "    .dataframe thead th {\n",
       "        text-align: right;\n",
       "    }\n",
       "</style>\n",
       "<table border=\"1\" class=\"dataframe\">\n",
       "  <thead>\n",
       "    <tr style=\"text-align: right;\">\n",
       "      <th></th>\n",
       "      <th>missing_values</th>\n",
       "      <th>percentage</th>\n",
       "      <th>info</th>\n",
       "    </tr>\n",
       "  </thead>\n",
       "  <tbody>\n",
       "    <tr>\n",
       "      <th>verification_status_joint</th>\n",
       "      <td>532123</td>\n",
       "      <td>99.94%</td>\n",
       "      <td>object</td>\n",
       "    </tr>\n",
       "    <tr>\n",
       "      <th>desc</th>\n",
       "      <td>456829</td>\n",
       "      <td>85.80%</td>\n",
       "      <td>object</td>\n",
       "    </tr>\n",
       "    <tr>\n",
       "      <th>mths_since_last_record</th>\n",
       "      <td>450305</td>\n",
       "      <td>84.58%</td>\n",
       "      <td>float64</td>\n",
       "    </tr>\n",
       "    <tr>\n",
       "      <th>mths_since_last_major_derog</th>\n",
       "      <td>399448</td>\n",
       "      <td>75.02%</td>\n",
       "      <td>float64</td>\n",
       "    </tr>\n",
       "    <tr>\n",
       "      <th>mths_since_last_delinq</th>\n",
       "      <td>272554</td>\n",
       "      <td>51.19%</td>\n",
       "      <td>float64</td>\n",
       "    </tr>\n",
       "    <tr>\n",
       "      <th>batch_enrolled</th>\n",
       "      <td>85149</td>\n",
       "      <td>15.99%</td>\n",
       "      <td>object</td>\n",
       "    </tr>\n",
       "    <tr>\n",
       "      <th>total_rev_hi_lim</th>\n",
       "      <td>42004</td>\n",
       "      <td>7.89%</td>\n",
       "      <td>float64</td>\n",
       "    </tr>\n",
       "    <tr>\n",
       "      <th>tot_cur_bal</th>\n",
       "      <td>42004</td>\n",
       "      <td>7.89%</td>\n",
       "      <td>float64</td>\n",
       "    </tr>\n",
       "    <tr>\n",
       "      <th>tot_coll_amt</th>\n",
       "      <td>42004</td>\n",
       "      <td>7.89%</td>\n",
       "      <td>float64</td>\n",
       "    </tr>\n",
       "    <tr>\n",
       "      <th>emp_title</th>\n",
       "      <td>30833</td>\n",
       "      <td>5.79%</td>\n",
       "      <td>object</td>\n",
       "    </tr>\n",
       "  </tbody>\n",
       "</table>\n",
       "</div>"
      ],
      "text/plain": [
       "                             missing_values percentage     info\n",
       "verification_status_joint            532123     99.94%   object\n",
       "desc                                 456829     85.80%   object\n",
       "mths_since_last_record               450305     84.58%  float64\n",
       "mths_since_last_major_derog          399448     75.02%  float64\n",
       "mths_since_last_delinq               272554     51.19%  float64\n",
       "batch_enrolled                        85149     15.99%   object\n",
       "total_rev_hi_lim                      42004      7.89%  float64\n",
       "tot_cur_bal                           42004      7.89%  float64\n",
       "tot_coll_amt                          42004      7.89%  float64\n",
       "emp_title                             30833      5.79%   object"
      ]
     },
     "execution_count": 16,
     "metadata": {},
     "output_type": "execute_result"
    }
   ],
   "source": [
    "na_values = pd.DataFrame(df.isna().sum(),columns=['missing_values'])\n",
    "na_values.sort_values(by = 'missing_values',ascending=False,inplace= True)\n",
    "na_values['percentage'] = (na_values['missing_values']/len(df) * 100).apply(lambda x : '{:.2f}%'.format(x))\n",
    "\n",
    "def column_info(column):\n",
    "    return str(column.dtype)\n",
    "\n",
    "for x in na_values.index:  \n",
    "    na_values.at[x,'info'] = column_info(df[x])\n",
    "    \n",
    "na_values.head(10)\n",
    "\n",
    "#This reveals the number of missing entries in each column of the dataset and their respective percentages relative to the entire dataset.\n",
    " "
   ]
  },
  {
   "cell_type": "code",
   "execution_count": 17,
   "id": "60911c63",
   "metadata": {
    "execution": {
     "iopub.execute_input": "2023-08-31T05:08:18.409866Z",
     "iopub.status.busy": "2023-08-31T05:08:18.409473Z",
     "iopub.status.idle": "2023-08-31T05:08:18.546778Z",
     "shell.execute_reply": "2023-08-31T05:08:18.545778Z"
    },
    "papermill": {
     "duration": 0.157082,
     "end_time": "2023-08-31T05:08:18.549057",
     "exception": false,
     "start_time": "2023-08-31T05:08:18.391975",
     "status": "completed"
    },
    "tags": []
   },
   "outputs": [],
   "source": [
    "# Now we delete the columns that has over 50% of missing values.\n",
    " # - The first two can easily be deleted\n",
    " # - The remaining three are numeric data types, we can delete them also because with over 50% of missing data, it would be inaccurate to fill the NA with its mean or median.\n",
    "\n",
    "df = df.drop(['verification_status_joint','desc','mths_since_last_record','mths_since_last_major_derog','mths_since_last_delinq'], axis = 1)"
   ]
  },
  {
   "cell_type": "code",
   "execution_count": 18,
   "id": "0b939c58",
   "metadata": {
    "execution": {
     "iopub.execute_input": "2023-08-31T05:08:18.583136Z",
     "iopub.status.busy": "2023-08-31T05:08:18.582751Z",
     "iopub.status.idle": "2023-08-31T05:08:18.724678Z",
     "shell.execute_reply": "2023-08-31T05:08:18.723829Z"
    },
    "papermill": {
     "duration": 0.161509,
     "end_time": "2023-08-31T05:08:18.726925",
     "exception": false,
     "start_time": "2023-08-31T05:08:18.565416",
     "status": "completed"
    },
    "tags": []
   },
   "outputs": [
    {
     "data": {
      "text/html": [
       "<div>\n",
       "<style scoped>\n",
       "    .dataframe tbody tr th:only-of-type {\n",
       "        vertical-align: middle;\n",
       "    }\n",
       "\n",
       "    .dataframe tbody tr th {\n",
       "        vertical-align: top;\n",
       "    }\n",
       "\n",
       "    .dataframe thead th {\n",
       "        text-align: right;\n",
       "    }\n",
       "</style>\n",
       "<table border=\"1\" class=\"dataframe\">\n",
       "  <thead>\n",
       "    <tr style=\"text-align: right;\">\n",
       "      <th></th>\n",
       "      <th>term</th>\n",
       "      <th>batch_enrolled</th>\n",
       "      <th>grade</th>\n",
       "      <th>sub_grade</th>\n",
       "      <th>emp_title</th>\n",
       "      <th>emp_length</th>\n",
       "      <th>home_ownership</th>\n",
       "      <th>verification_status</th>\n",
       "      <th>pymnt_plan</th>\n",
       "      <th>purpose</th>\n",
       "      <th>title</th>\n",
       "      <th>zip_code</th>\n",
       "      <th>addr_state</th>\n",
       "      <th>initial_list_status</th>\n",
       "      <th>application_type</th>\n",
       "      <th>last_week_pay</th>\n",
       "    </tr>\n",
       "  </thead>\n",
       "  <tbody>\n",
       "    <tr>\n",
       "      <th>0</th>\n",
       "      <td>36 months</td>\n",
       "      <td></td>\n",
       "      <td>E</td>\n",
       "      <td>E3</td>\n",
       "      <td>clerk</td>\n",
       "      <td>9 years</td>\n",
       "      <td>OWN</td>\n",
       "      <td>Source Verified</td>\n",
       "      <td>n</td>\n",
       "      <td>debt_consolidation</td>\n",
       "      <td>Debt consolidation</td>\n",
       "      <td>349xx</td>\n",
       "      <td>FL</td>\n",
       "      <td>f</td>\n",
       "      <td>INDIVIDUAL</td>\n",
       "      <td>26th week</td>\n",
       "    </tr>\n",
       "    <tr>\n",
       "      <th>1</th>\n",
       "      <td>36 months</td>\n",
       "      <td>BAT1586599</td>\n",
       "      <td>B</td>\n",
       "      <td>B4</td>\n",
       "      <td>Human Resources Specialist</td>\n",
       "      <td>&lt; 1 year</td>\n",
       "      <td>MORTGAGE</td>\n",
       "      <td>Source Verified</td>\n",
       "      <td>n</td>\n",
       "      <td>home_improvement</td>\n",
       "      <td>Home improvement</td>\n",
       "      <td>209xx</td>\n",
       "      <td>MD</td>\n",
       "      <td>w</td>\n",
       "      <td>INDIVIDUAL</td>\n",
       "      <td>9th week</td>\n",
       "    </tr>\n",
       "    <tr>\n",
       "      <th>2</th>\n",
       "      <td>36 months</td>\n",
       "      <td>BAT1586599</td>\n",
       "      <td>A</td>\n",
       "      <td>A4</td>\n",
       "      <td>Driver</td>\n",
       "      <td>2 years</td>\n",
       "      <td>OWN</td>\n",
       "      <td>Not Verified</td>\n",
       "      <td>n</td>\n",
       "      <td>debt_consolidation</td>\n",
       "      <td>Debt consolidation</td>\n",
       "      <td>447xx</td>\n",
       "      <td>OH</td>\n",
       "      <td>w</td>\n",
       "      <td>INDIVIDUAL</td>\n",
       "      <td>9th week</td>\n",
       "    </tr>\n",
       "    <tr>\n",
       "      <th>3</th>\n",
       "      <td>36 months</td>\n",
       "      <td>BAT4808022</td>\n",
       "      <td>D</td>\n",
       "      <td>D5</td>\n",
       "      <td>Us office of Personnel Management</td>\n",
       "      <td>10+ years</td>\n",
       "      <td>RENT</td>\n",
       "      <td>Not Verified</td>\n",
       "      <td>n</td>\n",
       "      <td>debt_consolidation</td>\n",
       "      <td>Debt consolidation</td>\n",
       "      <td>221xx</td>\n",
       "      <td>VA</td>\n",
       "      <td>f</td>\n",
       "      <td>INDIVIDUAL</td>\n",
       "      <td>135th week</td>\n",
       "    </tr>\n",
       "    <tr>\n",
       "      <th>4</th>\n",
       "      <td>36 months</td>\n",
       "      <td>BAT2833642</td>\n",
       "      <td>B</td>\n",
       "      <td>B2</td>\n",
       "      <td>LAUSD-HOLLYWOOD HIGH SCHOOL</td>\n",
       "      <td>10+ years</td>\n",
       "      <td>RENT</td>\n",
       "      <td>Verified</td>\n",
       "      <td>n</td>\n",
       "      <td>credit_card</td>\n",
       "      <td>refi</td>\n",
       "      <td>900xx</td>\n",
       "      <td>CA</td>\n",
       "      <td>w</td>\n",
       "      <td>INDIVIDUAL</td>\n",
       "      <td>96th week</td>\n",
       "    </tr>\n",
       "  </tbody>\n",
       "</table>\n",
       "</div>"
      ],
      "text/plain": [
       "        term batch_enrolled grade sub_grade  \\\n",
       "0  36 months                    E        E3   \n",
       "1  36 months     BAT1586599     B        B4   \n",
       "2  36 months     BAT1586599     A        A4   \n",
       "3  36 months     BAT4808022     D        D5   \n",
       "4  36 months     BAT2833642     B        B2   \n",
       "\n",
       "                           emp_title emp_length home_ownership  \\\n",
       "0                              clerk    9 years            OWN   \n",
       "1         Human Resources Specialist   < 1 year       MORTGAGE   \n",
       "2                             Driver    2 years            OWN   \n",
       "3  Us office of Personnel Management  10+ years           RENT   \n",
       "4        LAUSD-HOLLYWOOD HIGH SCHOOL  10+ years           RENT   \n",
       "\n",
       "  verification_status pymnt_plan             purpose               title  \\\n",
       "0     Source Verified          n  debt_consolidation  Debt consolidation   \n",
       "1     Source Verified          n    home_improvement    Home improvement   \n",
       "2        Not Verified          n  debt_consolidation  Debt consolidation   \n",
       "3        Not Verified          n  debt_consolidation  Debt consolidation   \n",
       "4            Verified          n         credit_card                refi   \n",
       "\n",
       "  zip_code addr_state initial_list_status application_type last_week_pay  \n",
       "0    349xx         FL                   f       INDIVIDUAL     26th week  \n",
       "1    209xx         MD                   w       INDIVIDUAL      9th week  \n",
       "2    447xx         OH                   w       INDIVIDUAL      9th week  \n",
       "3    221xx         VA                   f       INDIVIDUAL    135th week  \n",
       "4    900xx         CA                   w       INDIVIDUAL     96th week  "
      ]
     },
     "execution_count": 18,
     "metadata": {},
     "output_type": "execute_result"
    }
   ],
   "source": [
    "df.select_dtypes(include = 'object').head(5)\n",
    "\n",
    "#This returns columns that are object\n",
    "# Note that 'emp_length' and 'last_week_pay' are object types; we need to convert them to integer or float."
   ]
  },
  {
   "cell_type": "code",
   "execution_count": 19,
   "id": "98e68995",
   "metadata": {
    "execution": {
     "iopub.execute_input": "2023-08-31T05:08:18.762930Z",
     "iopub.status.busy": "2023-08-31T05:08:18.762557Z",
     "iopub.status.idle": "2023-08-31T05:08:18.831349Z",
     "shell.execute_reply": "2023-08-31T05:08:18.830191Z"
    },
    "papermill": {
     "duration": 0.089572,
     "end_time": "2023-08-31T05:08:18.833921",
     "exception": false,
     "start_time": "2023-08-31T05:08:18.744349",
     "status": "completed"
    },
    "tags": []
   },
   "outputs": [
    {
     "data": {
      "text/plain": [
       "array(['9 years', '< 1 year', '2 years', '10+ years', '5 years',\n",
       "       '8 years', '7 years', '4 years', nan, '1 year', '3 years',\n",
       "       '6 years'], dtype=object)"
      ]
     },
     "execution_count": 19,
     "metadata": {},
     "output_type": "execute_result"
    }
   ],
   "source": [
    "df['emp_length'].unique()"
   ]
  },
  {
   "cell_type": "code",
   "execution_count": 20,
   "id": "ada97dc0",
   "metadata": {
    "execution": {
     "iopub.execute_input": "2023-08-31T05:08:18.869502Z",
     "iopub.status.busy": "2023-08-31T05:08:18.869034Z",
     "iopub.status.idle": "2023-08-31T05:08:18.875328Z",
     "shell.execute_reply": "2023-08-31T05:08:18.874457Z"
    },
    "papermill": {
     "duration": 0.026507,
     "end_time": "2023-08-31T05:08:18.877441",
     "exception": false,
     "start_time": "2023-08-31T05:08:18.850934",
     "status": "completed"
    },
    "tags": []
   },
   "outputs": [],
   "source": [
    "def split_and_conversion(emp_length):\n",
    "    \n",
    "    if emp_length == '< 1 year':\n",
    "        return 0    \n",
    "    elif emp_length == '1 year':\n",
    "        return 1\n",
    "    elif emp_length == '10+ years':\n",
    "        return 10\n",
    "    elif pd.isna(emp_length):\n",
    "        return 0\n",
    "    else:\n",
    "        return int(emp_length.split(' ')[0])"
   ]
  },
  {
   "cell_type": "code",
   "execution_count": 21,
   "id": "8c0d7555",
   "metadata": {
    "execution": {
     "iopub.execute_input": "2023-08-31T05:08:18.912716Z",
     "iopub.status.busy": "2023-08-31T05:08:18.912278Z",
     "iopub.status.idle": "2023-08-31T05:08:19.872289Z",
     "shell.execute_reply": "2023-08-31T05:08:19.870800Z"
    },
    "papermill": {
     "duration": 0.980803,
     "end_time": "2023-08-31T05:08:19.874968",
     "exception": false,
     "start_time": "2023-08-31T05:08:18.894165",
     "status": "completed"
    },
    "tags": []
   },
   "outputs": [],
   "source": [
    "df['emp_length'] = df['emp_length'].apply(split_and_conversion)\n"
   ]
  },
  {
   "cell_type": "code",
   "execution_count": 22,
   "id": "f0e7b03e",
   "metadata": {
    "execution": {
     "iopub.execute_input": "2023-08-31T05:08:19.914469Z",
     "iopub.status.busy": "2023-08-31T05:08:19.914077Z",
     "iopub.status.idle": "2023-08-31T05:08:19.926608Z",
     "shell.execute_reply": "2023-08-31T05:08:19.925598Z"
    },
    "papermill": {
     "duration": 0.032469,
     "end_time": "2023-08-31T05:08:19.928873",
     "exception": false,
     "start_time": "2023-08-31T05:08:19.896404",
     "status": "completed"
    },
    "tags": []
   },
   "outputs": [
    {
     "data": {
      "text/plain": [
       "array([ 9,  0,  2, 10,  5,  8,  7,  4,  1,  3,  6])"
      ]
     },
     "execution_count": 22,
     "metadata": {},
     "output_type": "execute_result"
    }
   ],
   "source": [
    "df['emp_length'].unique()"
   ]
  },
  {
   "cell_type": "code",
   "execution_count": 23,
   "id": "026f4335",
   "metadata": {
    "execution": {
     "iopub.execute_input": "2023-08-31T05:08:19.964183Z",
     "iopub.status.busy": "2023-08-31T05:08:19.963783Z",
     "iopub.status.idle": "2023-08-31T05:08:20.024653Z",
     "shell.execute_reply": "2023-08-31T05:08:20.023833Z"
    },
    "papermill": {
     "duration": 0.081432,
     "end_time": "2023-08-31T05:08:20.027168",
     "exception": false,
     "start_time": "2023-08-31T05:08:19.945736",
     "status": "completed"
    },
    "tags": []
   },
   "outputs": [
    {
     "data": {
      "text/plain": [
       "array(['26th week', '9th week', '135th week', '96th week', '113th week',\n",
       "       '117th week', '78th week', '44th week', '52th week', '95th week',\n",
       "       '48th week', '82th week', '35th week', '104th week', '17th week',\n",
       "       '13th week', 'NAth week', '31th week', '30th week', '70th week',\n",
       "       '4th week', '91th week', '65th week', '39th week', '83th week',\n",
       "       '74th week', '22th week', '61th week', '156th week', '122th week',\n",
       "       '174th week', '87th week', '139th week', '0th week', '57th week',\n",
       "       '131th week', '152th week', '43th week', '161th week', '56th week',\n",
       "       '170th week', '157th week', '109th week', '126th week',\n",
       "       '100th week', '148th week', '265th week', '165th week',\n",
       "       '261th week', '213th week', '222th week', '196th week',\n",
       "       '130th week', '144th week', '244th week', '204th week',\n",
       "       '69th week', '217th week', '143th week', '191th week', '21th week',\n",
       "       '226th week', '18th week', '108th week', '79th week', '183th week',\n",
       "       '178th week', '187th week', '252th week', '200th week',\n",
       "       '118th week', '92th week', '121th week', '209th week',\n",
       "       '239th week', '248th week', '169th week', '153th week',\n",
       "       '235th week', '256th week', '8th week', '182th week', '230th week',\n",
       "       '231th week', '257th week', '243th week', '205th week',\n",
       "       '192th week', '270th week', '218th week', '283th week',\n",
       "       '300th week', '221th week', '291th week', '278th week',\n",
       "       '274th week', '269th week', '304th week'], dtype=object)"
      ]
     },
     "execution_count": 23,
     "metadata": {},
     "output_type": "execute_result"
    }
   ],
   "source": [
    "df['last_week_pay'].unique()"
   ]
  },
  {
   "cell_type": "code",
   "execution_count": 24,
   "id": "efc8cb2a",
   "metadata": {
    "execution": {
     "iopub.execute_input": "2023-08-31T05:08:20.063603Z",
     "iopub.status.busy": "2023-08-31T05:08:20.062769Z",
     "iopub.status.idle": "2023-08-31T05:08:21.710878Z",
     "shell.execute_reply": "2023-08-31T05:08:21.709692Z"
    },
    "papermill": {
     "duration": 1.669481,
     "end_time": "2023-08-31T05:08:21.713748",
     "exception": false,
     "start_time": "2023-08-31T05:08:20.044267",
     "status": "completed"
    },
    "tags": []
   },
   "outputs": [],
   "source": [
    "df['last_week_pay'] = df['last_week_pay'].replace('\\s*th week\\s*','',regex = True)\n",
    "df['last_week_pay'] = df['last_week_pay'].replace('NA',np.nan)\n",
    "df['last_week_pay'] = df['last_week_pay'].astype('Int64')"
   ]
  },
  {
   "cell_type": "code",
   "execution_count": 25,
   "id": "5ebd0f77",
   "metadata": {
    "execution": {
     "iopub.execute_input": "2023-08-31T05:08:21.751112Z",
     "iopub.status.busy": "2023-08-31T05:08:21.749906Z",
     "iopub.status.idle": "2023-08-31T05:08:21.758291Z",
     "shell.execute_reply": "2023-08-31T05:08:21.757319Z"
    },
    "papermill": {
     "duration": 0.029416,
     "end_time": "2023-08-31T05:08:21.760638",
     "exception": false,
     "start_time": "2023-08-31T05:08:21.731222",
     "status": "completed"
    },
    "tags": []
   },
   "outputs": [
    {
     "data": {
      "text/plain": [
       "0     26\n",
       "1      9\n",
       "2      9\n",
       "3    135\n",
       "4     96\n",
       "Name: last_week_pay, dtype: Int64"
      ]
     },
     "execution_count": 25,
     "metadata": {},
     "output_type": "execute_result"
    }
   ],
   "source": [
    "df['last_week_pay'].head(5)"
   ]
  },
  {
   "cell_type": "code",
   "execution_count": 26,
   "id": "e8d38e1f",
   "metadata": {
    "execution": {
     "iopub.execute_input": "2023-08-31T05:08:21.797077Z",
     "iopub.status.busy": "2023-08-31T05:08:21.796689Z",
     "iopub.status.idle": "2023-08-31T05:08:21.848594Z",
     "shell.execute_reply": "2023-08-31T05:08:21.847445Z"
    },
    "papermill": {
     "duration": 0.073082,
     "end_time": "2023-08-31T05:08:21.851066",
     "exception": false,
     "start_time": "2023-08-31T05:08:21.777984",
     "status": "completed"
    },
    "tags": []
   },
   "outputs": [
    {
     "data": {
      "text/plain": [
       "array(['36 months', '60 months'], dtype=object)"
      ]
     },
     "execution_count": 26,
     "metadata": {},
     "output_type": "execute_result"
    }
   ],
   "source": [
    "df['term'].unique()"
   ]
  },
  {
   "cell_type": "code",
   "execution_count": 27,
   "id": "b9a7edd6",
   "metadata": {
    "execution": {
     "iopub.execute_input": "2023-08-31T05:08:21.887972Z",
     "iopub.status.busy": "2023-08-31T05:08:21.887583Z",
     "iopub.status.idle": "2023-08-31T05:08:23.322705Z",
     "shell.execute_reply": "2023-08-31T05:08:23.321709Z"
    },
    "papermill": {
     "duration": 1.456769,
     "end_time": "2023-08-31T05:08:23.325439",
     "exception": false,
     "start_time": "2023-08-31T05:08:21.868670",
     "status": "completed"
    },
    "tags": []
   },
   "outputs": [],
   "source": [
    "df['term'] = df['term'].replace('\\s*months\\s*','',regex = True)"
   ]
  },
  {
   "cell_type": "code",
   "execution_count": 28,
   "id": "feb8df22",
   "metadata": {
    "execution": {
     "iopub.execute_input": "2023-08-31T05:08:23.362883Z",
     "iopub.status.busy": "2023-08-31T05:08:23.362482Z",
     "iopub.status.idle": "2023-08-31T05:08:23.457497Z",
     "shell.execute_reply": "2023-08-31T05:08:23.456556Z"
    },
    "papermill": {
     "duration": 0.117225,
     "end_time": "2023-08-31T05:08:23.460156",
     "exception": false,
     "start_time": "2023-08-31T05:08:23.342931",
     "status": "completed"
    },
    "tags": []
   },
   "outputs": [],
   "source": [
    "df['term'] = df['term'].astype('int64')"
   ]
  },
  {
   "cell_type": "code",
   "execution_count": 29,
   "id": "52ceee07",
   "metadata": {
    "execution": {
     "iopub.execute_input": "2023-08-31T05:08:23.496676Z",
     "iopub.status.busy": "2023-08-31T05:08:23.496284Z",
     "iopub.status.idle": "2023-08-31T05:08:23.622868Z",
     "shell.execute_reply": "2023-08-31T05:08:23.621724Z"
    },
    "papermill": {
     "duration": 0.148409,
     "end_time": "2023-08-31T05:08:23.625862",
     "exception": false,
     "start_time": "2023-08-31T05:08:23.477453",
     "status": "completed"
    },
    "tags": []
   },
   "outputs": [
    {
     "data": {
      "text/html": [
       "<div>\n",
       "<style scoped>\n",
       "    .dataframe tbody tr th:only-of-type {\n",
       "        vertical-align: middle;\n",
       "    }\n",
       "\n",
       "    .dataframe tbody tr th {\n",
       "        vertical-align: top;\n",
       "    }\n",
       "\n",
       "    .dataframe thead th {\n",
       "        text-align: right;\n",
       "    }\n",
       "</style>\n",
       "<table border=\"1\" class=\"dataframe\">\n",
       "  <thead>\n",
       "    <tr style=\"text-align: right;\">\n",
       "      <th></th>\n",
       "      <th>batch_enrolled</th>\n",
       "      <th>grade</th>\n",
       "      <th>sub_grade</th>\n",
       "      <th>emp_title</th>\n",
       "      <th>home_ownership</th>\n",
       "      <th>verification_status</th>\n",
       "      <th>pymnt_plan</th>\n",
       "      <th>purpose</th>\n",
       "      <th>title</th>\n",
       "      <th>zip_code</th>\n",
       "      <th>addr_state</th>\n",
       "      <th>initial_list_status</th>\n",
       "      <th>application_type</th>\n",
       "    </tr>\n",
       "  </thead>\n",
       "  <tbody>\n",
       "    <tr>\n",
       "      <th>0</th>\n",
       "      <td></td>\n",
       "      <td>E</td>\n",
       "      <td>E3</td>\n",
       "      <td>clerk</td>\n",
       "      <td>OWN</td>\n",
       "      <td>Source Verified</td>\n",
       "      <td>n</td>\n",
       "      <td>debt_consolidation</td>\n",
       "      <td>Debt consolidation</td>\n",
       "      <td>349xx</td>\n",
       "      <td>FL</td>\n",
       "      <td>f</td>\n",
       "      <td>INDIVIDUAL</td>\n",
       "    </tr>\n",
       "    <tr>\n",
       "      <th>1</th>\n",
       "      <td>BAT1586599</td>\n",
       "      <td>B</td>\n",
       "      <td>B4</td>\n",
       "      <td>Human Resources Specialist</td>\n",
       "      <td>MORTGAGE</td>\n",
       "      <td>Source Verified</td>\n",
       "      <td>n</td>\n",
       "      <td>home_improvement</td>\n",
       "      <td>Home improvement</td>\n",
       "      <td>209xx</td>\n",
       "      <td>MD</td>\n",
       "      <td>w</td>\n",
       "      <td>INDIVIDUAL</td>\n",
       "    </tr>\n",
       "    <tr>\n",
       "      <th>2</th>\n",
       "      <td>BAT1586599</td>\n",
       "      <td>A</td>\n",
       "      <td>A4</td>\n",
       "      <td>Driver</td>\n",
       "      <td>OWN</td>\n",
       "      <td>Not Verified</td>\n",
       "      <td>n</td>\n",
       "      <td>debt_consolidation</td>\n",
       "      <td>Debt consolidation</td>\n",
       "      <td>447xx</td>\n",
       "      <td>OH</td>\n",
       "      <td>w</td>\n",
       "      <td>INDIVIDUAL</td>\n",
       "    </tr>\n",
       "    <tr>\n",
       "      <th>3</th>\n",
       "      <td>BAT4808022</td>\n",
       "      <td>D</td>\n",
       "      <td>D5</td>\n",
       "      <td>Us office of Personnel Management</td>\n",
       "      <td>RENT</td>\n",
       "      <td>Not Verified</td>\n",
       "      <td>n</td>\n",
       "      <td>debt_consolidation</td>\n",
       "      <td>Debt consolidation</td>\n",
       "      <td>221xx</td>\n",
       "      <td>VA</td>\n",
       "      <td>f</td>\n",
       "      <td>INDIVIDUAL</td>\n",
       "    </tr>\n",
       "    <tr>\n",
       "      <th>4</th>\n",
       "      <td>BAT2833642</td>\n",
       "      <td>B</td>\n",
       "      <td>B2</td>\n",
       "      <td>LAUSD-HOLLYWOOD HIGH SCHOOL</td>\n",
       "      <td>RENT</td>\n",
       "      <td>Verified</td>\n",
       "      <td>n</td>\n",
       "      <td>credit_card</td>\n",
       "      <td>refi</td>\n",
       "      <td>900xx</td>\n",
       "      <td>CA</td>\n",
       "      <td>w</td>\n",
       "      <td>INDIVIDUAL</td>\n",
       "    </tr>\n",
       "    <tr>\n",
       "      <th>...</th>\n",
       "      <td>...</td>\n",
       "      <td>...</td>\n",
       "      <td>...</td>\n",
       "      <td>...</td>\n",
       "      <td>...</td>\n",
       "      <td>...</td>\n",
       "      <td>...</td>\n",
       "      <td>...</td>\n",
       "      <td>...</td>\n",
       "      <td>...</td>\n",
       "      <td>...</td>\n",
       "      <td>...</td>\n",
       "      <td>...</td>\n",
       "    </tr>\n",
       "    <tr>\n",
       "      <th>532423</th>\n",
       "      <td></td>\n",
       "      <td>B</td>\n",
       "      <td>B5</td>\n",
       "      <td>Registered Nurse</td>\n",
       "      <td>MORTGAGE</td>\n",
       "      <td>Source Verified</td>\n",
       "      <td>n</td>\n",
       "      <td>debt_consolidation</td>\n",
       "      <td>Debt consolidation</td>\n",
       "      <td>481xx</td>\n",
       "      <td>MI</td>\n",
       "      <td>f</td>\n",
       "      <td>INDIVIDUAL</td>\n",
       "    </tr>\n",
       "    <tr>\n",
       "      <th>532424</th>\n",
       "      <td>BAT2003848</td>\n",
       "      <td>C</td>\n",
       "      <td>C5</td>\n",
       "      <td>Account Mgr</td>\n",
       "      <td>MORTGAGE</td>\n",
       "      <td>Not Verified</td>\n",
       "      <td>n</td>\n",
       "      <td>debt_consolidation</td>\n",
       "      <td>Debt consolidation</td>\n",
       "      <td>496xx</td>\n",
       "      <td>MI</td>\n",
       "      <td>w</td>\n",
       "      <td>INDIVIDUAL</td>\n",
       "    </tr>\n",
       "    <tr>\n",
       "      <th>532425</th>\n",
       "      <td>NaN</td>\n",
       "      <td>E</td>\n",
       "      <td>E1</td>\n",
       "      <td>Comcast cable</td>\n",
       "      <td>RENT</td>\n",
       "      <td>Verified</td>\n",
       "      <td>n</td>\n",
       "      <td>debt_consolidation</td>\n",
       "      <td>Debt consolidation</td>\n",
       "      <td>370xx</td>\n",
       "      <td>TN</td>\n",
       "      <td>f</td>\n",
       "      <td>INDIVIDUAL</td>\n",
       "    </tr>\n",
       "    <tr>\n",
       "      <th>532426</th>\n",
       "      <td>BAT3193689</td>\n",
       "      <td>D</td>\n",
       "      <td>D2</td>\n",
       "      <td>Resident Physician</td>\n",
       "      <td>RENT</td>\n",
       "      <td>Source Verified</td>\n",
       "      <td>n</td>\n",
       "      <td>credit_card</td>\n",
       "      <td>Credit card refinancing</td>\n",
       "      <td>432xx</td>\n",
       "      <td>OH</td>\n",
       "      <td>w</td>\n",
       "      <td>INDIVIDUAL</td>\n",
       "    </tr>\n",
       "    <tr>\n",
       "      <th>532427</th>\n",
       "      <td>BAT4136152</td>\n",
       "      <td>A</td>\n",
       "      <td>A2</td>\n",
       "      <td>Health Care Analyst</td>\n",
       "      <td>RENT</td>\n",
       "      <td>Not Verified</td>\n",
       "      <td>n</td>\n",
       "      <td>debt_consolidation</td>\n",
       "      <td>Debt consolidation</td>\n",
       "      <td>956xx</td>\n",
       "      <td>CA</td>\n",
       "      <td>f</td>\n",
       "      <td>INDIVIDUAL</td>\n",
       "    </tr>\n",
       "  </tbody>\n",
       "</table>\n",
       "<p>532428 rows × 13 columns</p>\n",
       "</div>"
      ],
      "text/plain": [
       "       batch_enrolled grade sub_grade                          emp_title  \\\n",
       "0                         E        E3                              clerk   \n",
       "1          BAT1586599     B        B4         Human Resources Specialist   \n",
       "2          BAT1586599     A        A4                             Driver   \n",
       "3          BAT4808022     D        D5  Us office of Personnel Management   \n",
       "4          BAT2833642     B        B2        LAUSD-HOLLYWOOD HIGH SCHOOL   \n",
       "...               ...   ...       ...                                ...   \n",
       "532423                    B        B5                   Registered Nurse   \n",
       "532424     BAT2003848     C        C5                        Account Mgr   \n",
       "532425            NaN     E        E1                      Comcast cable   \n",
       "532426     BAT3193689     D        D2                 Resident Physician   \n",
       "532427     BAT4136152     A        A2                Health Care Analyst   \n",
       "\n",
       "       home_ownership verification_status pymnt_plan             purpose  \\\n",
       "0                 OWN     Source Verified          n  debt_consolidation   \n",
       "1            MORTGAGE     Source Verified          n    home_improvement   \n",
       "2                 OWN        Not Verified          n  debt_consolidation   \n",
       "3                RENT        Not Verified          n  debt_consolidation   \n",
       "4                RENT            Verified          n         credit_card   \n",
       "...               ...                 ...        ...                 ...   \n",
       "532423       MORTGAGE     Source Verified          n  debt_consolidation   \n",
       "532424       MORTGAGE        Not Verified          n  debt_consolidation   \n",
       "532425           RENT            Verified          n  debt_consolidation   \n",
       "532426           RENT     Source Verified          n         credit_card   \n",
       "532427           RENT        Not Verified          n  debt_consolidation   \n",
       "\n",
       "                          title zip_code addr_state initial_list_status  \\\n",
       "0            Debt consolidation    349xx         FL                   f   \n",
       "1              Home improvement    209xx         MD                   w   \n",
       "2            Debt consolidation    447xx         OH                   w   \n",
       "3            Debt consolidation    221xx         VA                   f   \n",
       "4                          refi    900xx         CA                   w   \n",
       "...                         ...      ...        ...                 ...   \n",
       "532423       Debt consolidation    481xx         MI                   f   \n",
       "532424       Debt consolidation    496xx         MI                   w   \n",
       "532425       Debt consolidation    370xx         TN                   f   \n",
       "532426  Credit card refinancing    432xx         OH                   w   \n",
       "532427       Debt consolidation    956xx         CA                   f   \n",
       "\n",
       "       application_type  \n",
       "0            INDIVIDUAL  \n",
       "1            INDIVIDUAL  \n",
       "2            INDIVIDUAL  \n",
       "3            INDIVIDUAL  \n",
       "4            INDIVIDUAL  \n",
       "...                 ...  \n",
       "532423       INDIVIDUAL  \n",
       "532424       INDIVIDUAL  \n",
       "532425       INDIVIDUAL  \n",
       "532426       INDIVIDUAL  \n",
       "532427       INDIVIDUAL  \n",
       "\n",
       "[532428 rows x 13 columns]"
      ]
     },
     "execution_count": 29,
     "metadata": {},
     "output_type": "execute_result"
    }
   ],
   "source": [
    "df.select_dtypes(include = 'object')\n",
    "#Now we have fully conveted the afftected columns back to integers or float.\n"
   ]
  },
  {
   "cell_type": "code",
   "execution_count": 30,
   "id": "0ae6a553",
   "metadata": {
    "execution": {
     "iopub.execute_input": "2023-08-31T05:08:23.664022Z",
     "iopub.status.busy": "2023-08-31T05:08:23.663640Z",
     "iopub.status.idle": "2023-08-31T05:08:23.743258Z",
     "shell.execute_reply": "2023-08-31T05:08:23.742034Z"
    },
    "papermill": {
     "duration": 0.101899,
     "end_time": "2023-08-31T05:08:23.745910",
     "exception": false,
     "start_time": "2023-08-31T05:08:23.644011",
     "status": "completed"
    },
    "tags": []
   },
   "outputs": [
    {
     "data": {
      "text/plain": [
       "Index(['member_id', 'loan_amnt', 'funded_amnt', 'funded_amnt_inv', 'term',\n",
       "       'int_rate', 'emp_length', 'annual_inc', 'dti', 'delinq_2yrs',\n",
       "       'inq_last_6mths', 'open_acc', 'pub_rec', 'revol_bal', 'revol_util',\n",
       "       'total_acc', 'total_rec_int', 'total_rec_late_fee', 'recoveries',\n",
       "       'collection_recovery_fee', 'collections_12_mths_ex_med',\n",
       "       'last_week_pay', 'acc_now_delinq', 'tot_coll_amt', 'tot_cur_bal',\n",
       "       'total_rev_hi_lim', 'loan_status'],\n",
       "      dtype='object')"
      ]
     },
     "execution_count": 30,
     "metadata": {},
     "output_type": "execute_result"
    }
   ],
   "source": [
    "#Now we replace any missing values in the the numercial column with its median \n",
    "df.select_dtypes(exclude = 'object').columns"
   ]
  },
  {
   "cell_type": "code",
   "execution_count": 31,
   "id": "95d26fa9",
   "metadata": {
    "execution": {
     "iopub.execute_input": "2023-08-31T05:08:23.784704Z",
     "iopub.status.busy": "2023-08-31T05:08:23.783338Z",
     "iopub.status.idle": "2023-08-31T05:08:24.437511Z",
     "shell.execute_reply": "2023-08-31T05:08:24.436427Z"
    },
    "papermill": {
     "duration": 0.675929,
     "end_time": "2023-08-31T05:08:24.440115",
     "exception": false,
     "start_time": "2023-08-31T05:08:23.764186",
     "status": "completed"
    },
    "tags": []
   },
   "outputs": [],
   "source": [
    "columns  = ['member_id', 'loan_amnt', 'funded_amnt', 'funded_amnt_inv', 'term',\n",
    "       'int_rate', 'emp_length', 'annual_inc', 'dti', 'delinq_2yrs',\n",
    "       'inq_last_6mths', 'open_acc', 'pub_rec', 'revol_bal', 'revol_util',\n",
    "       'total_acc', 'total_rec_int', 'total_rec_late_fee', 'recoveries',\n",
    "       'collection_recovery_fee', 'collections_12_mths_ex_med',\n",
    "       'last_week_pay', 'acc_now_delinq', 'tot_coll_amt', 'tot_cur_bal',\n",
    "       'total_rev_hi_lim', 'loan_status']\n",
    "\n",
    "for col in columns:\n",
    "    \n",
    "    df[col] = df[col].fillna(df[col].median())"
   ]
  },
  {
   "cell_type": "code",
   "execution_count": 32,
   "id": "b72136df",
   "metadata": {
    "execution": {
     "iopub.execute_input": "2023-08-31T05:08:24.478057Z",
     "iopub.status.busy": "2023-08-31T05:08:24.477632Z",
     "iopub.status.idle": "2023-08-31T05:08:26.817733Z",
     "shell.execute_reply": "2023-08-31T05:08:26.816542Z"
    },
    "papermill": {
     "duration": 2.362055,
     "end_time": "2023-08-31T05:08:26.820204",
     "exception": false,
     "start_time": "2023-08-31T05:08:24.458149",
     "status": "completed"
    },
    "tags": []
   },
   "outputs": [
    {
     "data": {
      "text/plain": [
       "batch_enrolled         85149\n",
       "grade                      0\n",
       "sub_grade                  0\n",
       "emp_title              30833\n",
       "home_ownership             0\n",
       "verification_status        0\n",
       "pymnt_plan                 0\n",
       "purpose                    0\n",
       "title                     90\n",
       "zip_code                   0\n",
       "addr_state                 0\n",
       "initial_list_status        0\n",
       "application_type           0\n",
       "dtype: int64"
      ]
     },
     "execution_count": 32,
     "metadata": {},
     "output_type": "execute_result"
    }
   ],
   "source": [
    "df.select_dtypes(include = 'object').isna().sum()"
   ]
  },
  {
   "cell_type": "code",
   "execution_count": 33,
   "id": "b23242cd",
   "metadata": {
    "execution": {
     "iopub.execute_input": "2023-08-31T05:08:26.860346Z",
     "iopub.status.busy": "2023-08-31T05:08:26.859933Z",
     "iopub.status.idle": "2023-08-31T05:08:27.300697Z",
     "shell.execute_reply": "2023-08-31T05:08:27.299539Z"
    },
    "papermill": {
     "duration": 0.464399,
     "end_time": "2023-08-31T05:08:27.303392",
     "exception": false,
     "start_time": "2023-08-31T05:08:26.838993",
     "status": "completed"
    },
    "tags": []
   },
   "outputs": [],
   "source": [
    "obj_cols = ['batch_enrolled','emp_title','title']\n",
    "\n",
    "for col in obj_cols:\n",
    "    df[col] = df[col].fillna('missing')"
   ]
  },
  {
   "cell_type": "code",
   "execution_count": 34,
   "id": "43ae015d",
   "metadata": {
    "execution": {
     "iopub.execute_input": "2023-08-31T05:08:27.342288Z",
     "iopub.status.busy": "2023-08-31T05:08:27.341834Z",
     "iopub.status.idle": "2023-08-31T05:08:29.541214Z",
     "shell.execute_reply": "2023-08-31T05:08:29.540029Z"
    },
    "papermill": {
     "duration": 2.221807,
     "end_time": "2023-08-31T05:08:29.543807",
     "exception": false,
     "start_time": "2023-08-31T05:08:27.322000",
     "status": "completed"
    },
    "tags": []
   },
   "outputs": [
    {
     "data": {
      "text/plain": [
       "member_id                     0\n",
       "loan_amnt                     0\n",
       "funded_amnt                   0\n",
       "funded_amnt_inv               0\n",
       "term                          0\n",
       "batch_enrolled                0\n",
       "int_rate                      0\n",
       "grade                         0\n",
       "sub_grade                     0\n",
       "emp_title                     0\n",
       "emp_length                    0\n",
       "home_ownership                0\n",
       "annual_inc                    0\n",
       "verification_status           0\n",
       "pymnt_plan                    0\n",
       "purpose                       0\n",
       "title                         0\n",
       "zip_code                      0\n",
       "addr_state                    0\n",
       "dti                           0\n",
       "delinq_2yrs                   0\n",
       "inq_last_6mths                0\n",
       "open_acc                      0\n",
       "pub_rec                       0\n",
       "revol_bal                     0\n",
       "revol_util                    0\n",
       "total_acc                     0\n",
       "initial_list_status           0\n",
       "total_rec_int                 0\n",
       "total_rec_late_fee            0\n",
       "recoveries                    0\n",
       "collection_recovery_fee       0\n",
       "collections_12_mths_ex_med    0\n",
       "application_type              0\n",
       "last_week_pay                 0\n",
       "acc_now_delinq                0\n",
       "tot_coll_amt                  0\n",
       "tot_cur_bal                   0\n",
       "total_rev_hi_lim              0\n",
       "loan_status                   0\n",
       "dtype: int64"
      ]
     },
     "execution_count": 34,
     "metadata": {},
     "output_type": "execute_result"
    }
   ],
   "source": [
    "# After careful data preprocessing, missing values were addressed and columns that were mistakenly recognized as objects were reverted back to their appropriate numerical data types.\n",
    "df.isna().sum()"
   ]
  },
  {
   "cell_type": "code",
   "execution_count": 35,
   "id": "ac499d60",
   "metadata": {
    "execution": {
     "iopub.execute_input": "2023-08-31T05:08:29.582081Z",
     "iopub.status.busy": "2023-08-31T05:08:29.581685Z",
     "iopub.status.idle": "2023-08-31T05:08:29.759769Z",
     "shell.execute_reply": "2023-08-31T05:08:29.758533Z"
    },
    "papermill": {
     "duration": 0.20097,
     "end_time": "2023-08-31T05:08:29.762938",
     "exception": false,
     "start_time": "2023-08-31T05:08:29.561968",
     "status": "completed"
    },
    "tags": []
   },
   "outputs": [],
   "source": [
    "# Preparation for the machine learning model\n",
    "# Dropping the 'title and emp_title' column due to its high cardinality, which can increase computational time and potentially lead to overfitting when creating dummy variables.\n",
    "\n",
    "df.drop(['emp_title','title'],axis = 1, inplace = True)"
   ]
  },
  {
   "cell_type": "code",
   "execution_count": 36,
   "id": "328a5585",
   "metadata": {
    "execution": {
     "iopub.execute_input": "2023-08-31T05:08:29.801426Z",
     "iopub.status.busy": "2023-08-31T05:08:29.800983Z",
     "iopub.status.idle": "2023-08-31T05:08:35.260623Z",
     "shell.execute_reply": "2023-08-31T05:08:35.259468Z"
    },
    "papermill": {
     "duration": 5.482143,
     "end_time": "2023-08-31T05:08:35.263455",
     "exception": false,
     "start_time": "2023-08-31T05:08:29.781312",
     "status": "completed"
    },
    "tags": []
   },
   "outputs": [
    {
     "data": {
      "text/html": [
       "<div>\n",
       "<style scoped>\n",
       "    .dataframe tbody tr th:only-of-type {\n",
       "        vertical-align: middle;\n",
       "    }\n",
       "\n",
       "    .dataframe tbody tr th {\n",
       "        vertical-align: top;\n",
       "    }\n",
       "\n",
       "    .dataframe thead th {\n",
       "        text-align: right;\n",
       "    }\n",
       "</style>\n",
       "<table border=\"1\" class=\"dataframe\">\n",
       "  <thead>\n",
       "    <tr style=\"text-align: right;\">\n",
       "      <th></th>\n",
       "      <th>member_id</th>\n",
       "      <th>loan_amnt</th>\n",
       "      <th>funded_amnt</th>\n",
       "      <th>funded_amnt_inv</th>\n",
       "      <th>term</th>\n",
       "      <th>int_rate</th>\n",
       "      <th>emp_length</th>\n",
       "      <th>annual_inc</th>\n",
       "      <th>dti</th>\n",
       "      <th>delinq_2yrs</th>\n",
       "      <th>...</th>\n",
       "      <th>addr_state_TX</th>\n",
       "      <th>addr_state_UT</th>\n",
       "      <th>addr_state_VA</th>\n",
       "      <th>addr_state_VT</th>\n",
       "      <th>addr_state_WA</th>\n",
       "      <th>addr_state_WI</th>\n",
       "      <th>addr_state_WV</th>\n",
       "      <th>addr_state_WY</th>\n",
       "      <th>initial_list_status_w</th>\n",
       "      <th>application_type_JOINT</th>\n",
       "    </tr>\n",
       "  </thead>\n",
       "  <tbody>\n",
       "    <tr>\n",
       "      <th>0</th>\n",
       "      <td>58189336</td>\n",
       "      <td>14350</td>\n",
       "      <td>14350</td>\n",
       "      <td>14350.0</td>\n",
       "      <td>36</td>\n",
       "      <td>19.19</td>\n",
       "      <td>9</td>\n",
       "      <td>28700.0</td>\n",
       "      <td>33.88</td>\n",
       "      <td>0.0</td>\n",
       "      <td>...</td>\n",
       "      <td>0</td>\n",
       "      <td>0</td>\n",
       "      <td>0</td>\n",
       "      <td>0</td>\n",
       "      <td>0</td>\n",
       "      <td>0</td>\n",
       "      <td>0</td>\n",
       "      <td>0</td>\n",
       "      <td>0</td>\n",
       "      <td>0</td>\n",
       "    </tr>\n",
       "    <tr>\n",
       "      <th>1</th>\n",
       "      <td>70011223</td>\n",
       "      <td>4800</td>\n",
       "      <td>4800</td>\n",
       "      <td>4800.0</td>\n",
       "      <td>36</td>\n",
       "      <td>10.99</td>\n",
       "      <td>0</td>\n",
       "      <td>65000.0</td>\n",
       "      <td>3.64</td>\n",
       "      <td>0.0</td>\n",
       "      <td>...</td>\n",
       "      <td>0</td>\n",
       "      <td>0</td>\n",
       "      <td>0</td>\n",
       "      <td>0</td>\n",
       "      <td>0</td>\n",
       "      <td>0</td>\n",
       "      <td>0</td>\n",
       "      <td>0</td>\n",
       "      <td>1</td>\n",
       "      <td>0</td>\n",
       "    </tr>\n",
       "    <tr>\n",
       "      <th>2</th>\n",
       "      <td>70255675</td>\n",
       "      <td>10000</td>\n",
       "      <td>10000</td>\n",
       "      <td>10000.0</td>\n",
       "      <td>36</td>\n",
       "      <td>7.26</td>\n",
       "      <td>2</td>\n",
       "      <td>45000.0</td>\n",
       "      <td>18.42</td>\n",
       "      <td>0.0</td>\n",
       "      <td>...</td>\n",
       "      <td>0</td>\n",
       "      <td>0</td>\n",
       "      <td>0</td>\n",
       "      <td>0</td>\n",
       "      <td>0</td>\n",
       "      <td>0</td>\n",
       "      <td>0</td>\n",
       "      <td>0</td>\n",
       "      <td>1</td>\n",
       "      <td>0</td>\n",
       "    </tr>\n",
       "    <tr>\n",
       "      <th>3</th>\n",
       "      <td>1893936</td>\n",
       "      <td>15000</td>\n",
       "      <td>15000</td>\n",
       "      <td>15000.0</td>\n",
       "      <td>36</td>\n",
       "      <td>19.72</td>\n",
       "      <td>10</td>\n",
       "      <td>105000.0</td>\n",
       "      <td>14.97</td>\n",
       "      <td>0.0</td>\n",
       "      <td>...</td>\n",
       "      <td>0</td>\n",
       "      <td>0</td>\n",
       "      <td>1</td>\n",
       "      <td>0</td>\n",
       "      <td>0</td>\n",
       "      <td>0</td>\n",
       "      <td>0</td>\n",
       "      <td>0</td>\n",
       "      <td>0</td>\n",
       "      <td>0</td>\n",
       "    </tr>\n",
       "    <tr>\n",
       "      <th>4</th>\n",
       "      <td>7652106</td>\n",
       "      <td>16000</td>\n",
       "      <td>16000</td>\n",
       "      <td>16000.0</td>\n",
       "      <td>36</td>\n",
       "      <td>10.64</td>\n",
       "      <td>10</td>\n",
       "      <td>52000.0</td>\n",
       "      <td>20.16</td>\n",
       "      <td>0.0</td>\n",
       "      <td>...</td>\n",
       "      <td>0</td>\n",
       "      <td>0</td>\n",
       "      <td>0</td>\n",
       "      <td>0</td>\n",
       "      <td>0</td>\n",
       "      <td>0</td>\n",
       "      <td>0</td>\n",
       "      <td>0</td>\n",
       "      <td>1</td>\n",
       "      <td>0</td>\n",
       "    </tr>\n",
       "  </tbody>\n",
       "</table>\n",
       "<p>5 rows × 1160 columns</p>\n",
       "</div>"
      ],
      "text/plain": [
       "   member_id  loan_amnt  funded_amnt  funded_amnt_inv  term  int_rate  \\\n",
       "0   58189336      14350        14350          14350.0    36     19.19   \n",
       "1   70011223       4800         4800           4800.0    36     10.99   \n",
       "2   70255675      10000        10000          10000.0    36      7.26   \n",
       "3    1893936      15000        15000          15000.0    36     19.72   \n",
       "4    7652106      16000        16000          16000.0    36     10.64   \n",
       "\n",
       "   emp_length  annual_inc    dti  delinq_2yrs  ...  addr_state_TX  \\\n",
       "0           9     28700.0  33.88          0.0  ...              0   \n",
       "1           0     65000.0   3.64          0.0  ...              0   \n",
       "2           2     45000.0  18.42          0.0  ...              0   \n",
       "3          10    105000.0  14.97          0.0  ...              0   \n",
       "4          10     52000.0  20.16          0.0  ...              0   \n",
       "\n",
       "   addr_state_UT  addr_state_VA  addr_state_VT  addr_state_WA  addr_state_WI  \\\n",
       "0              0              0              0              0              0   \n",
       "1              0              0              0              0              0   \n",
       "2              0              0              0              0              0   \n",
       "3              0              1              0              0              0   \n",
       "4              0              0              0              0              0   \n",
       "\n",
       "   addr_state_WV  addr_state_WY  initial_list_status_w  application_type_JOINT  \n",
       "0              0              0                      0                       0  \n",
       "1              0              0                      1                       0  \n",
       "2              0              0                      1                       0  \n",
       "3              0              0                      0                       0  \n",
       "4              0              0                      1                       0  \n",
       "\n",
       "[5 rows x 1160 columns]"
      ]
     },
     "execution_count": 36,
     "metadata": {},
     "output_type": "execute_result"
    }
   ],
   "source": [
    "# Using pd.get_dummies() to convert categorical variables into dummy/indicator variables\n",
    "\n",
    "df = pd.get_dummies(df,drop_first=True)\n",
    "df.head(5)"
   ]
  },
  {
   "cell_type": "code",
   "execution_count": 37,
   "id": "b6a0155e",
   "metadata": {
    "execution": {
     "iopub.execute_input": "2023-08-31T05:08:35.302935Z",
     "iopub.status.busy": "2023-08-31T05:08:35.302545Z",
     "iopub.status.idle": "2023-08-31T05:08:35.622329Z",
     "shell.execute_reply": "2023-08-31T05:08:35.621300Z"
    },
    "papermill": {
     "duration": 0.342834,
     "end_time": "2023-08-31T05:08:35.625035",
     "exception": false,
     "start_time": "2023-08-31T05:08:35.282201",
     "status": "completed"
    },
    "tags": []
   },
   "outputs": [
    {
     "data": {
      "text/plain": [
       "<AxesSubplot:xlabel='loan_status', ylabel='count'>"
      ]
     },
     "execution_count": 37,
     "metadata": {},
     "output_type": "execute_result"
    },
    {
     "data": {
      "image/png": "[encoded data removed]",
      "text/plain": [
       "<Figure size 640x480 with 1 Axes>"
      ]
     },
     "metadata": {},
     "output_type": "display_data"
    }
   ],
   "source": [
    "sns.countplot(data = df, x = 'loan_status')\n",
    "\n",
    "#This shows we already dealing with an imbalanced dataset."
   ]
  },
  {
   "cell_type": "code",
   "execution_count": 38,
   "id": "ff7b55c0",
   "metadata": {
    "execution": {
     "iopub.execute_input": "2023-08-31T05:08:35.667118Z",
     "iopub.status.busy": "2023-08-31T05:08:35.666000Z",
     "iopub.status.idle": "2023-08-31T05:08:36.695593Z",
     "shell.execute_reply": "2023-08-31T05:08:36.694260Z"
    },
    "papermill": {
     "duration": 1.053469,
     "end_time": "2023-08-31T05:08:36.698388",
     "exception": false,
     "start_time": "2023-08-31T05:08:35.644919",
     "status": "completed"
    },
    "tags": []
   },
   "outputs": [],
   "source": [
    "X = df.drop('loan_status', axis= 1)\n",
    "y = df['loan_status']"
   ]
  },
  {
   "cell_type": "code",
   "execution_count": 39,
   "id": "62aec124",
   "metadata": {
    "execution": {
     "iopub.execute_input": "2023-08-31T05:08:36.739814Z",
     "iopub.status.busy": "2023-08-31T05:08:36.739404Z",
     "iopub.status.idle": "2023-08-31T05:08:36.744552Z",
     "shell.execute_reply": "2023-08-31T05:08:36.742957Z"
    },
    "papermill": {
     "duration": 0.029182,
     "end_time": "2023-08-31T05:08:36.747133",
     "exception": false,
     "start_time": "2023-08-31T05:08:36.717951",
     "status": "completed"
    },
    "tags": []
   },
   "outputs": [],
   "source": [
    "#X_train, X_test, y_train, y_test = train_test_split(X, y, test_size=0.30, random_state=101)"
   ]
  },
  {
   "cell_type": "code",
   "execution_count": 40,
   "id": "bd007451",
   "metadata": {
    "execution": {
     "iopub.execute_input": "2023-08-31T05:08:36.788830Z",
     "iopub.status.busy": "2023-08-31T05:08:36.788411Z",
     "iopub.status.idle": "2023-08-31T05:08:47.680660Z",
     "shell.execute_reply": "2023-08-31T05:08:47.679515Z"
    },
    "papermill": {
     "duration": 10.916381,
     "end_time": "2023-08-31T05:08:47.683520",
     "exception": false,
     "start_time": "2023-08-31T05:08:36.767139",
     "status": "completed"
    },
    "tags": []
   },
   "outputs": [],
   "source": [
    "X_train_full, X_test, y_train_full, y_test = train_test_split(X, y, test_size=0.2, random_state=42)\n",
    "X_train, X_val, y_train, y_val = train_test_split(X_train_full, y_train_full, test_size=0.25, random_state=42)"
   ]
  },
  {
   "cell_type": "code",
   "execution_count": 41,
   "id": "fe5e5909",
   "metadata": {
    "execution": {
     "iopub.execute_input": "2023-08-31T05:08:47.725446Z",
     "iopub.status.busy": "2023-08-31T05:08:47.725014Z",
     "iopub.status.idle": "2023-08-31T05:08:47.885156Z",
     "shell.execute_reply": "2023-08-31T05:08:47.884070Z"
    },
    "papermill": {
     "duration": 0.18421,
     "end_time": "2023-08-31T05:08:47.888004",
     "exception": false,
     "start_time": "2023-08-31T05:08:47.703794",
     "status": "completed"
    },
    "tags": []
   },
   "outputs": [],
   "source": [
    "\n",
    "# # Calculate the scale_pos_weight for handling class imbalance\n",
    "# It's the ratio of number of negative class to the positive clas\n",
    "count_neg = sum(y == 0)\n",
    "count_pos = sum(y == 1)\n",
    "\n",
    "scale_pos_weight_value = count_neg/count_pos"
   ]
  },
  {
   "cell_type": "code",
   "execution_count": 42,
   "id": "b05423fb",
   "metadata": {
    "execution": {
     "iopub.execute_input": "2023-08-31T05:08:47.929874Z",
     "iopub.status.busy": "2023-08-31T05:08:47.928797Z",
     "iopub.status.idle": "2023-08-31T05:17:50.176529Z",
     "shell.execute_reply": "2023-08-31T05:17:50.175329Z"
    },
    "papermill": {
     "duration": 542.271392,
     "end_time": "2023-08-31T05:17:50.179082",
     "exception": false,
     "start_time": "2023-08-31T05:08:47.907690",
     "status": "completed"
    },
    "tags": []
   },
   "outputs": [
    {
     "name": "stderr",
     "output_type": "stream",
     "text": [
      "/Users/osazeogbebor/opt/anaconda3/lib/python3.9/site-packages/xgboost/sklearn.py:835: UserWarning: `eval_metric` in `fit` method is deprecated for better compatibility with scikit-learn, use `eval_metric` in constructor or`set_params` instead.\n",
      "  warnings.warn(\n",
      "/Users/osazeogbebor/opt/anaconda3/lib/python3.9/site-packages/xgboost/sklearn.py:835: UserWarning: `early_stopping_rounds` in `fit` method is deprecated for better compatibility with scikit-learn, use `early_stopping_rounds` in constructor or`set_params` instead.\n",
      "  warnings.warn(\n"
     ]
    },
    {
     "name": "stdout",
     "output_type": "stream",
     "text": [
      "[0]\tvalidation_0-auc:0.94912\n",
      "[1]\tvalidation_0-auc:0.95838\n",
      "[2]\tvalidation_0-auc:0.96173\n",
      "[3]\tvalidation_0-auc:0.96378\n",
      "[4]\tvalidation_0-auc:0.96482\n",
      "[5]\tvalidation_0-auc:0.96574\n",
      "[6]\tvalidation_0-auc:0.96682\n",
      "[7]\tvalidation_0-auc:0.96767\n",
      "[8]\tvalidation_0-auc:0.96819\n",
      "[9]\tvalidation_0-auc:0.96852\n",
      "[10]\tvalidation_0-auc:0.96920\n",
      "[11]\tvalidation_0-auc:0.96972\n",
      "[12]\tvalidation_0-auc:0.96988\n",
      "[13]\tvalidation_0-auc:0.96995\n",
      "[14]\tvalidation_0-auc:0.97049\n",
      "[15]\tvalidation_0-auc:0.97065\n",
      "[16]\tvalidation_0-auc:0.97076\n",
      "[17]\tvalidation_0-auc:0.97092\n",
      "[18]\tvalidation_0-auc:0.97100\n",
      "[19]\tvalidation_0-auc:0.97112\n",
      "[20]\tvalidation_0-auc:0.97120\n",
      "[21]\tvalidation_0-auc:0.97176\n",
      "[22]\tvalidation_0-auc:0.97184\n",
      "[23]\tvalidation_0-auc:0.97193\n",
      "[24]\tvalidation_0-auc:0.97206\n",
      "[25]\tvalidation_0-auc:0.97215\n",
      "[26]\tvalidation_0-auc:0.97226\n",
      "[27]\tvalidation_0-auc:0.97233\n",
      "[28]\tvalidation_0-auc:0.97238\n",
      "[29]\tvalidation_0-auc:0.97239\n",
      "[30]\tvalidation_0-auc:0.97240\n",
      "[31]\tvalidation_0-auc:0.97244\n",
      "[32]\tvalidation_0-auc:0.97250\n",
      "[33]\tvalidation_0-auc:0.97253\n",
      "[34]\tvalidation_0-auc:0.97261\n",
      "[35]\tvalidation_0-auc:0.97261\n",
      "[36]\tvalidation_0-auc:0.97261\n",
      "[37]\tvalidation_0-auc:0.97263\n",
      "[38]\tvalidation_0-auc:0.97267\n",
      "[39]\tvalidation_0-auc:0.97269\n",
      "[40]\tvalidation_0-auc:0.97275\n",
      "[41]\tvalidation_0-auc:0.97275\n",
      "[42]\tvalidation_0-auc:0.97279\n",
      "[43]\tvalidation_0-auc:0.97285\n",
      "[44]\tvalidation_0-auc:0.97289\n",
      "[45]\tvalidation_0-auc:0.97290\n",
      "[46]\tvalidation_0-auc:0.97293\n",
      "[47]\tvalidation_0-auc:0.97306\n",
      "[48]\tvalidation_0-auc:0.97304\n",
      "[49]\tvalidation_0-auc:0.97313\n",
      "[50]\tvalidation_0-auc:0.97321\n",
      "[51]\tvalidation_0-auc:0.97322\n",
      "[52]\tvalidation_0-auc:0.97323\n",
      "[53]\tvalidation_0-auc:0.97329\n",
      "[54]\tvalidation_0-auc:0.97349\n",
      "[55]\tvalidation_0-auc:0.97348\n",
      "[56]\tvalidation_0-auc:0.97348\n",
      "[57]\tvalidation_0-auc:0.97349\n",
      "[58]\tvalidation_0-auc:0.97348\n",
      "[59]\tvalidation_0-auc:0.97348\n",
      "[60]\tvalidation_0-auc:0.97359\n",
      "[61]\tvalidation_0-auc:0.97361\n",
      "[62]\tvalidation_0-auc:0.97363\n",
      "[63]\tvalidation_0-auc:0.97378\n",
      "[64]\tvalidation_0-auc:0.97391\n",
      "[65]\tvalidation_0-auc:0.97393\n",
      "[66]\tvalidation_0-auc:0.97399\n",
      "[67]\tvalidation_0-auc:0.97398\n",
      "[68]\tvalidation_0-auc:0.97404\n",
      "[69]\tvalidation_0-auc:0.97401\n",
      "[70]\tvalidation_0-auc:0.97402\n",
      "[71]\tvalidation_0-auc:0.97403\n",
      "[72]\tvalidation_0-auc:0.97402\n"
     ]
    },
    {
     "data": {
      "text/plain": [
       "XGBClassifier(base_score=None, booster=None, callbacks=None,\n",
       "              colsample_bylevel=None, colsample_bynode=None,\n",
       "              colsample_bytree=None, early_stopping_rounds=None,\n",
       "              enable_categorical=False, eval_metric=None, feature_types=None,\n",
       "              gamma=None, gpu_id=None, grow_policy=None, importance_type=None,\n",
       "              interaction_constraints=None, learning_rate=None, max_bin=None,\n",
       "              max_cat_threshold=None, max_cat_to_onehot=None,\n",
       "              max_delta_step=None, max_depth=None, max_leaves=None,\n",
       "              min_child_weight=None, missing=nan, monotone_constraints=None,\n",
       "              n_estimators=1000, n_jobs=None, num_parallel_tree=None,\n",
       "              predictor=None, random_state=None, ...)"
      ]
     },
     "execution_count": 42,
     "metadata": {},
     "output_type": "execute_result"
    }
   ],
   "source": [
    "# Train the model\n",
    "# Using early stopping & AUC as the evaluation metric        \n",
    "\n",
    "model = xgb.XGBClassifier(n_estimators=1000, objective='binary:logistic',scale_pos_weight = scale_pos_weight_value)\n",
    "model.fit(\n",
    "    X_train, y_train, \n",
    "    eval_set=[(X_val, y_val)], \n",
    "    early_stopping_rounds=5,\n",
    "    eval_metric=\"auc\",\n",
    "    verbose=True\n",
    ")"
   ]
  },
  {
   "cell_type": "code",
   "execution_count": 43,
   "id": "1131187b",
   "metadata": {
    "execution": {
     "iopub.execute_input": "2023-08-31T05:17:50.235797Z",
     "iopub.status.busy": "2023-08-31T05:17:50.234945Z",
     "iopub.status.idle": "2023-08-31T05:17:51.369286Z",
     "shell.execute_reply": "2023-08-31T05:17:51.368274Z"
    },
    "papermill": {
     "duration": 1.165962,
     "end_time": "2023-08-31T05:17:51.372000",
     "exception": false,
     "start_time": "2023-08-31T05:17:50.206038",
     "status": "completed"
    },
    "tags": []
   },
   "outputs": [],
   "source": [
    "#Predicting the probability scores for the positive class (e.g., 'Defaulter') for the test dataset\n",
    "predict_prob = model.predict_proba(X_test)[:,1]"
   ]
  },
  {
   "cell_type": "code",
   "execution_count": 44,
   "id": "e2ca0b37",
   "metadata": {
    "execution": {
     "iopub.execute_input": "2023-08-31T05:17:51.427639Z",
     "iopub.status.busy": "2023-08-31T05:17:51.427219Z",
     "iopub.status.idle": "2023-08-31T05:17:51.478195Z",
     "shell.execute_reply": "2023-08-31T05:17:51.477209Z"
    },
    "papermill": {
     "duration": 0.081145,
     "end_time": "2023-08-31T05:17:51.480715",
     "exception": false,
     "start_time": "2023-08-31T05:17:51.399570",
     "status": "completed"
    },
    "tags": []
   },
   "outputs": [
    {
     "data": {
      "text/plain": [
       "0.9761158484896928"
      ]
     },
     "execution_count": 44,
     "metadata": {},
     "output_type": "execute_result"
    }
   ],
   "source": [
    "# Calculating the ROC AUC score to evaluate the model's performance on distinguishing between the classes\n",
    "roc_auc_score(y_test,predict_prob)"
   ]
  },
  {
   "cell_type": "code",
   "execution_count": 45,
   "id": "3a3ff361",
   "metadata": {
    "execution": {
     "iopub.execute_input": "2023-08-31T05:17:51.536320Z",
     "iopub.status.busy": "2023-08-31T05:17:51.535349Z",
     "iopub.status.idle": "2023-08-31T05:17:51.580385Z",
     "shell.execute_reply": "2023-08-31T05:17:51.579348Z"
    },
    "papermill": {
     "duration": 0.075405,
     "end_time": "2023-08-31T05:17:51.582697",
     "exception": false,
     "start_time": "2023-08-31T05:17:51.507292",
     "status": "completed"
    },
    "tags": []
   },
   "outputs": [
    {
     "name": "stdout",
     "output_type": "stream",
     "text": [
      "ROC AUC Score: 0.98\n",
      "\n",
      "The model achieved a ROC AUC score of 0.98, indicating a high level of proficiency in distinguishing between the classes. This demonstrates the model's effectiveness for the task at hand. Further optimizations and real-world testing can be pursued in future iterations.\n"
     ]
    }
   ],
   "source": [
    "# Calculating the ROC AUC score to evaluate the model's performance on distinguishing between the classes\n",
    "score = roc_auc_score(y_test, predict_prob)\n",
    "print(f\"ROC AUC Score: {score:.2f}\")\n",
    "\n",
    "# Conclusion\n",
    "print(f\"\\nThe model achieved a ROC AUC score of {score:.2f}, indicating a high level of proficiency in distinguishing between the classes. This demonstrates the model's effectiveness for the task at hand. Further optimizations and real-world testing can be pursued in future iterations.\")\n"
   ]
  },
  {
   "cell_type": "code",
   "execution_count": null,
   "id": "1895c416",
   "metadata": {
    "papermill": {
     "duration": 0.026556,
     "end_time": "2023-08-31T05:17:51.635893",
     "exception": false,
     "start_time": "2023-08-31T05:17:51.609337",
     "status": "completed"
    },
    "tags": []
   },
   "outputs": [],
   "source": []
  }
 ],
 "metadata": {
  "kernelspec": {
   "display_name": "Python 3 (ipykernel)",
   "language": "python",
   "name": "python3"
  },
  "language_info": {
   "codemirror_mode": {
    "name": "ipython",
    "version": 3
   },
   "file_extension": ".py",
   "mimetype": "text/x-python",
   "name": "python",
   "nbconvert_exporter": "python",
   "pygments_lexer": "ipython3",
   "version": "3.9.13"
  },
  "papermill": {
   "default_parameters": {},
   "duration": 617.950224,
   "end_time": "2023-08-31T05:17:52.988879",
   "environment_variables": {},
   "exception": null,
   "input_path": "__notebook__.ipynb",
   "output_path": "__notebook__.ipynb",
   "parameters": {},
   "start_time": "2023-08-31T05:07:35.038655",
   "version": "2.4.0"
  }
 },
 "nbformat": 4,
 "nbformat_minor": 5
}
